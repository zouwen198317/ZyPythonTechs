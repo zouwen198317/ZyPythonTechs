{
 "cells": [
  {
   "cell_type": "markdown",
   "metadata": {},
   "source": [
    "0、Markdown状态\n",
    "\n",
    "编辑公式，首先要使单元成为Markdown状态。\n",
    "\n",
    "1. 公式的行内（inline）模式与显示（display）模式\n",
    "\n",
    "公式的行内模式为$ 数学公式 $ ，公式将与前后的文字混排\n",
    "\n",
    "https://www.cnblogs.com/laoduan/p/7641698.html\n"
   ]
  },
  {
   "cell_type": "markdown",
   "metadata": {},
   "source": [
    "一元一次方程: $ y = a + b x $\n"
   ]
  },
  {
   "cell_type": "markdown",
   "metadata": {},
   "source": [
    "$$ 数学公式 $$"
   ]
  },
  {
   "cell_type": "markdown",
   "metadata": {},
   "source": [
    "2. 显示模式为\"$\"$\" 数学公式\"$\"$\"，公式将单独一行，如：\n",
    "一元一次方程: $$ y = a+bx$$"
   ]
  },
  {
   "cell_type": "markdown",
   "metadata": {},
   "source": [
    "3. 下标以\"_\"为引导，上标以“^”为引导，对于多个字符组成的上标和下标，以“{}”括起来。\n",
    "上下标: $$ y = a+bx_{ij}^2$$"
   ]
  },
  {
   "cell_type": "markdown",
   "metadata": {},
   "source": [
    "4. 求和以\\sum表示\n",
    "求和 $$\\sum_{i=0}^{n}(x_j^2+y_j^3)$$"
   ]
  },
  {
   "cell_type": "markdown",
   "metadata": {},
   "source": [
    "5. 分数\n",
    "使用 \\frac{分母}{分子}，或\\cfrac{分母}{分子}\n",
    "$$\\frac{1}{3} - \\frac{x_j^2}{y_j^3}$$"
   ]
  },
  {
   "cell_type": "markdown",
   "metadata": {},
   "source": [
    "6. 矩阵\n",
    "$$ \\left [\\begin{array} {cccc}\n",
    "X_1&Y_1^2\\\\\n",
    "X_2&Y_2^2\\\\\n",
    "\\ldots \\\\\n",
    "X_n&Y_n^2\n",
    "\\end{array} \\right]$$"
   ]
  },
  {
   "cell_type": "markdown",
   "metadata": {},
   "source": [
    "7. 开方\n",
    "\\sqrt[次数]{被开方数}\n",
    "\n",
    "$$ \\sqrt[2]{b^2-4ac}$$"
   ]
  },
  {
   "cell_type": "markdown",
   "metadata": {},
   "source": [
    "8 . 省略号\n",
    "\\ldots 　与底线对齐的省略号，\\cdots 与中线对齐省略号\n",
    "\n",
    "$$ f(x_1,x_2,\\ldots,x_i) = x_1+x_2+\\cdots+x_i$$"
   ]
  },
  {
   "cell_type": "markdown",
   "metadata": {},
   "source": [
    "9 . 大括号\n",
    "\n",
    "$$ \\{ \\} $$\n"
   ]
  },
  {
   "cell_type": "markdown",
   "metadata": {},
   "source": [
    "10. 大号括号\n",
    "$$ x + \\left(Y^2 + \\frac{X^2+z}{1+z^2}\\right) $$"
   ]
  },
  {
   "cell_type": "markdown",
   "metadata": {},
   "source": [
    "11. 多行数据公式\n",
    "$$ \\begin{eqnarray*}\n",
    "\\cos 2 \\theta &  =  & \\cos^2 \\theta - \\sin^2 \\theta\\\\\n",
    "&=& 2\\cos^2 \\theta-1 \\end{eqnarray*}$$"
   ]
  }
 ],
 "metadata": {
  "kernelspec": {
   "display_name": "Python 3",
   "language": "python",
   "name": "python3"
  },
  "language_info": {
   "codemirror_mode": {
    "name": "ipython",
    "version": 3
   },
   "file_extension": ".py",
   "mimetype": "text/x-python",
   "name": "python",
   "nbconvert_exporter": "python",
   "pygments_lexer": "ipython3",
   "version": "3.6.5"
  }
 },
 "nbformat": 4,
 "nbformat_minor": 2
}
